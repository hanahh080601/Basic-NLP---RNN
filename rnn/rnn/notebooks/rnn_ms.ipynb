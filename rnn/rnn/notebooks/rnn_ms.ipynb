{
 "cells": [
  {
   "cell_type": "code",
   "execution_count": null,
   "metadata": {},
   "outputs": [],
   "source": [
    "%cd /home/bap/hana/Basic-NLP-RNN/rnn/rnn"
   ]
  },
  {
   "cell_type": "code",
   "execution_count": null,
   "metadata": {},
   "outputs": [],
   "source": [
    "import numpy as np\n",
    "import io\n",
    "import torch\n",
    "from torch import nn\n",
    "import torch.nn.functional as F\n",
    "from torch.distributions import Categorical\n",
    "from torch.utils.data import DataLoader, Dataset"
   ]
  },
  {
   "cell_type": "code",
   "execution_count": null,
   "metadata": {},
   "outputs": [],
   "source": [
    "class Config:\n",
    "    '''\n",
    "    Config class defines dataset path and hyperparameters.\n",
    "    '''\n",
    "    data_train_url = 'dataset/shakespeare_train.txt'\n",
    "    data_val_url = 'dataset/shakespeare_valid.txt'\n",
    "    hidden_size = 512   # size of hidden state\n",
    "    seq_len = 100       # length of LSTM sequence\n",
    "    num_layers = 3      # num of layers in LSTM layer stack\n",
    "    epochs = 100        # max number of epochs\n",
    "    n_seqs = 128\n",
    "    n_steps = 100\n",
    "    lr = 0.002          # learning rate\n",
    "    clip = 5\n",
    "    num_workers = 2\n",
    "    op_seq_len = 200    # total num of characters in output test sequence             \n",
    "    load_chk = False    # load weights from save_path directory to continue training\n",
    "    save_path = \"models/rnn.pth\""
   ]
  },
  {
   "cell_type": "code",
   "execution_count": null,
   "metadata": {},
   "outputs": [],
   "source": [
    "class Dataset(Dataset):\n",
    "    def __init__(self, file_path, seq_len = Config.seq_len):\n",
    "        self.file_path = file_path\n",
    "        self.seq_len = seq_len\n",
    "        self.data = open(file_path, 'r').read()\n",
    "        self.chars = sorted(list(set(self.data)))\n",
    "        self.char_to_id = {ch:i for i, ch in enumerate(self.chars) }\n",
    "        self.id_to_char = {i:ch for i, ch in enumerate(self.chars) }\n",
    "        self.word_indexes = [self.char_to_id[s] for s in self.chars]\n",
    "\n",
    "    def __len__(self):\n",
    "        return len(self.word_indexes) - self.sequence_length\n",
    "    \n",
    "    def __getitem__(self,idx):\n",
    "        return (\n",
    "            torch.tensor(self.word_indexes[idx: idx + self.seq_len]),\n",
    "            torch.tensor(self.word_indexes[idx + 1: idx + self.seq_len + 1])\n",
    "        )"
   ]
  },
  {
   "cell_type": "code",
   "execution_count": null,
   "metadata": {},
   "outputs": [],
   "source": [
    "class RNN(nn.Module):\n",
    "    def __init__(self, vocab_size, hidden_size, num_layers):\n",
    "        super(RNN, self).__init__()\n",
    "        self.embedding = nn.Embedding(vocab_size, vocab_size)\n",
    "        self.lstm = nn.LSTM(vocab_size, hidden_size, num_layers)\n",
    "        self.fc = nn.Linear(hidden_size, vocab_size)\n",
    "\n",
    "    def forward(self, input_seq, hidden_state):\n",
    "        embedding = self.embedding(input_seq)\n",
    "        output, hidden_state = self.lstm(embedding, hidden_state)\n",
    "        output = self.fc(output)\n",
    "        return output, (hidden_state[0].detach(), hidden_state[1].detach()) "
   ]
  }
 ],
 "metadata": {
  "kernelspec": {
   "display_name": "Python 3.8.10 ('.venv': poetry)",
   "language": "python",
   "name": "python3"
  },
  "language_info": {
   "name": "python",
   "version": "3.8.10"
  },
  "orig_nbformat": 4,
  "vscode": {
   "interpreter": {
    "hash": "6996669039b24f13aef7be20d9606477de00a70217801a8b6318938f205f3171"
   }
  }
 },
 "nbformat": 4,
 "nbformat_minor": 2
}
